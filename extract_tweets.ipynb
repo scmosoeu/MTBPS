{
 "cells": [
  {
   "cell_type": "code",
   "execution_count": 1,
   "metadata": {},
   "outputs": [],
   "source": [
    "import tweepy\n",
    "import pandas as pd\n",
    "import numpy as np\n",
    "import re\n",
    "\n",
    "from authorization_keys import consumer_key, consumer_secret, token, token_key # User specific, acquired from Twitter "
   ]
  },
  {
   "cell_type": "code",
   "execution_count": 2,
   "metadata": {},
   "outputs": [],
   "source": [
    "auth = tweepy.OAuthHandler(consumer_key, consumer_secret)\n",
    "\n",
    "auth.set_access_token(token, token_key)"
   ]
  },
  {
   "cell_type": "code",
   "execution_count": 3,
   "metadata": {},
   "outputs": [],
   "source": [
    "api = tweepy.API(auth)"
   ]
  },
  {
   "cell_type": "code",
   "execution_count": 4,
   "metadata": {},
   "outputs": [],
   "source": [
    "tweets = []\n",
    "for tweet in tweepy.Cursor(api.search, q='MTBPS2019 -filter:retweets', tweet_mode='extended').items(3000):\n",
    "    tweets.append(tweet)"
   ]
  },
  {
   "cell_type": "code",
   "execution_count": 5,
   "metadata": {},
   "outputs": [
    {
     "data": {
      "text/plain": [
       "2293"
      ]
     },
     "execution_count": 5,
     "metadata": {},
     "output_type": "execute_result"
    }
   ],
   "source": [
    "len(tweets)"
   ]
  },
  {
   "cell_type": "markdown",
   "metadata": {},
   "source": [
    "Looks like 2293 is the most number of tweets MTBPS2019 has."
   ]
  },
  {
   "cell_type": "code",
   "execution_count": 138,
   "metadata": {},
   "outputs": [
    {
     "data": {
      "text/plain": [
       "Status(_api=<tweepy.api.API object at 0x000001D454BDCE80>, _json={'created_at': 'Thu Nov 07 11:04:45 +0000 2019', 'id': 1192397471307186179, 'id_str': '1192397471307186179', 'full_text': 'Post #MTBPS2019 and the release of the second version of \\n@TreasuryRSA’s economic paper, we’re faced with many questions - most importantly those of congruency and validity. \\n\\nWe explore the ⁉ in our #ScienceOfModelling series. \\n\\nKey reading 👉https://t.co/24ARc1NLwM', 'truncated': False, 'display_text_range': [0, 266], 'entities': {'hashtags': [{'text': 'MTBPS2019', 'indices': [5, 15]}, {'text': 'ScienceOfModelling', 'indices': [200, 219]}], 'symbols': [], 'user_mentions': [{'screen_name': 'TreasuryRSA', 'name': 'National Treasury', 'id': 1484243208, 'id_str': '1484243208', 'indices': [58, 70]}], 'urls': [{'url': 'https://t.co/24ARc1NLwM', 'expanded_url': 'https://bit.ly/2NXL5Wj', 'display_url': 'bit.ly/2NXL5Wj', 'indices': [243, 266]}]}, 'metadata': {'iso_language_code': 'en', 'result_type': 'recent'}, 'source': '<a href=\"https://mobile.twitter.com\" rel=\"nofollow\">Twitter Web App</a>', 'in_reply_to_status_id': None, 'in_reply_to_status_id_str': None, 'in_reply_to_user_id': None, 'in_reply_to_user_id_str': None, 'in_reply_to_screen_name': None, 'user': {'id': 834076112, 'id_str': '834076112', 'name': 'ADRS', 'screen_name': 'ADRSglobal', 'location': 'Folsom, CA - South Africa', 'description': 'ADRS provides #innovative, flexible & customizable #economic modeling tools, #policy research, capacity building, & advisory services.', 'url': 'http://t.co/cvzfnxb3Ab', 'entities': {'url': {'urls': [{'url': 'http://t.co/cvzfnxb3Ab', 'expanded_url': 'http://adrs-global.com', 'display_url': 'adrs-global.com', 'indices': [0, 22]}]}, 'description': {'urls': []}}, 'protected': False, 'followers_count': 241, 'friends_count': 498, 'listed_count': 3, 'created_at': 'Wed Sep 19 20:27:50 +0000 2012', 'favourites_count': 132, 'utc_offset': None, 'time_zone': None, 'geo_enabled': True, 'verified': False, 'statuses_count': 1217, 'lang': None, 'contributors_enabled': False, 'is_translator': False, 'is_translation_enabled': False, 'profile_background_color': 'FCFCFC', 'profile_background_image_url': 'http://abs.twimg.com/images/themes/theme1/bg.png', 'profile_background_image_url_https': 'https://abs.twimg.com/images/themes/theme1/bg.png', 'profile_background_tile': False, 'profile_image_url': 'http://pbs.twimg.com/profile_images/766352220757471233/FgbsKndU_normal.jpg', 'profile_image_url_https': 'https://pbs.twimg.com/profile_images/766352220757471233/FgbsKndU_normal.jpg', 'profile_banner_url': 'https://pbs.twimg.com/profile_banners/834076112/1351010853', 'profile_link_color': '09187A', 'profile_sidebar_border_color': 'FFFFFF', 'profile_sidebar_fill_color': 'DDEEF6', 'profile_text_color': '333333', 'profile_use_background_image': True, 'has_extended_profile': False, 'default_profile': False, 'default_profile_image': False, 'following': False, 'follow_request_sent': False, 'notifications': False, 'translator_type': 'none'}, 'geo': None, 'coordinates': None, 'place': None, 'contributors': None, 'is_quote_status': False, 'retweet_count': 0, 'favorite_count': 1, 'favorited': False, 'retweeted': False, 'possibly_sensitive': False, 'lang': 'en'}, created_at=datetime.datetime(2019, 11, 7, 11, 4, 45), id=1192397471307186179, id_str='1192397471307186179', full_text='Post #MTBPS2019 and the release of the second version of \\n@TreasuryRSA’s economic paper, we’re faced with many questions - most importantly those of congruency and validity. \\n\\nWe explore the ⁉ in our #ScienceOfModelling series. \\n\\nKey reading 👉https://t.co/24ARc1NLwM', truncated=False, display_text_range=[0, 266], entities={'hashtags': [{'text': 'MTBPS2019', 'indices': [5, 15]}, {'text': 'ScienceOfModelling', 'indices': [200, 219]}], 'symbols': [], 'user_mentions': [{'screen_name': 'TreasuryRSA', 'name': 'National Treasury', 'id': 1484243208, 'id_str': '1484243208', 'indices': [58, 70]}], 'urls': [{'url': 'https://t.co/24ARc1NLwM', 'expanded_url': 'https://bit.ly/2NXL5Wj', 'display_url': 'bit.ly/2NXL5Wj', 'indices': [243, 266]}]}, metadata={'iso_language_code': 'en', 'result_type': 'recent'}, source='Twitter Web App', source_url='https://mobile.twitter.com', in_reply_to_status_id=None, in_reply_to_status_id_str=None, in_reply_to_user_id=None, in_reply_to_user_id_str=None, in_reply_to_screen_name=None, author=User(_api=<tweepy.api.API object at 0x000001D454BDCE80>, _json={'id': 834076112, 'id_str': '834076112', 'name': 'ADRS', 'screen_name': 'ADRSglobal', 'location': 'Folsom, CA - South Africa', 'description': 'ADRS provides #innovative, flexible & customizable #economic modeling tools, #policy research, capacity building, & advisory services.', 'url': 'http://t.co/cvzfnxb3Ab', 'entities': {'url': {'urls': [{'url': 'http://t.co/cvzfnxb3Ab', 'expanded_url': 'http://adrs-global.com', 'display_url': 'adrs-global.com', 'indices': [0, 22]}]}, 'description': {'urls': []}}, 'protected': False, 'followers_count': 241, 'friends_count': 498, 'listed_count': 3, 'created_at': 'Wed Sep 19 20:27:50 +0000 2012', 'favourites_count': 132, 'utc_offset': None, 'time_zone': None, 'geo_enabled': True, 'verified': False, 'statuses_count': 1217, 'lang': None, 'contributors_enabled': False, 'is_translator': False, 'is_translation_enabled': False, 'profile_background_color': 'FCFCFC', 'profile_background_image_url': 'http://abs.twimg.com/images/themes/theme1/bg.png', 'profile_background_image_url_https': 'https://abs.twimg.com/images/themes/theme1/bg.png', 'profile_background_tile': False, 'profile_image_url': 'http://pbs.twimg.com/profile_images/766352220757471233/FgbsKndU_normal.jpg', 'profile_image_url_https': 'https://pbs.twimg.com/profile_images/766352220757471233/FgbsKndU_normal.jpg', 'profile_banner_url': 'https://pbs.twimg.com/profile_banners/834076112/1351010853', 'profile_link_color': '09187A', 'profile_sidebar_border_color': 'FFFFFF', 'profile_sidebar_fill_color': 'DDEEF6', 'profile_text_color': '333333', 'profile_use_background_image': True, 'has_extended_profile': False, 'default_profile': False, 'default_profile_image': False, 'following': False, 'follow_request_sent': False, 'notifications': False, 'translator_type': 'none'}, id=834076112, id_str='834076112', name='ADRS', screen_name='ADRSglobal', location='Folsom, CA - South Africa', description='ADRS provides #innovative, flexible & customizable #economic modeling tools, #policy research, capacity building, & advisory services.', url='http://t.co/cvzfnxb3Ab', entities={'url': {'urls': [{'url': 'http://t.co/cvzfnxb3Ab', 'expanded_url': 'http://adrs-global.com', 'display_url': 'adrs-global.com', 'indices': [0, 22]}]}, 'description': {'urls': []}}, protected=False, followers_count=241, friends_count=498, listed_count=3, created_at=datetime.datetime(2012, 9, 19, 20, 27, 50), favourites_count=132, utc_offset=None, time_zone=None, geo_enabled=True, verified=False, statuses_count=1217, lang=None, contributors_enabled=False, is_translator=False, is_translation_enabled=False, profile_background_color='FCFCFC', profile_background_image_url='http://abs.twimg.com/images/themes/theme1/bg.png', profile_background_image_url_https='https://abs.twimg.com/images/themes/theme1/bg.png', profile_background_tile=False, profile_image_url='http://pbs.twimg.com/profile_images/766352220757471233/FgbsKndU_normal.jpg', profile_image_url_https='https://pbs.twimg.com/profile_images/766352220757471233/FgbsKndU_normal.jpg', profile_banner_url='https://pbs.twimg.com/profile_banners/834076112/1351010853', profile_link_color='09187A', profile_sidebar_border_color='FFFFFF', profile_sidebar_fill_color='DDEEF6', profile_text_color='333333', profile_use_background_image=True, has_extended_profile=False, default_profile=False, default_profile_image=False, following=False, follow_request_sent=False, notifications=False, translator_type='none'), user=User(_api=<tweepy.api.API object at 0x000001D454BDCE80>, _json={'id': 834076112, 'id_str': '834076112', 'name': 'ADRS', 'screen_name': 'ADRSglobal', 'location': 'Folsom, CA - South Africa', 'description': 'ADRS provides #innovative, flexible & customizable #economic modeling tools, #policy research, capacity building, & advisory services.', 'url': 'http://t.co/cvzfnxb3Ab', 'entities': {'url': {'urls': [{'url': 'http://t.co/cvzfnxb3Ab', 'expanded_url': 'http://adrs-global.com', 'display_url': 'adrs-global.com', 'indices': [0, 22]}]}, 'description': {'urls': []}}, 'protected': False, 'followers_count': 241, 'friends_count': 498, 'listed_count': 3, 'created_at': 'Wed Sep 19 20:27:50 +0000 2012', 'favourites_count': 132, 'utc_offset': None, 'time_zone': None, 'geo_enabled': True, 'verified': False, 'statuses_count': 1217, 'lang': None, 'contributors_enabled': False, 'is_translator': False, 'is_translation_enabled': False, 'profile_background_color': 'FCFCFC', 'profile_background_image_url': 'http://abs.twimg.com/images/themes/theme1/bg.png', 'profile_background_image_url_https': 'https://abs.twimg.com/images/themes/theme1/bg.png', 'profile_background_tile': False, 'profile_image_url': 'http://pbs.twimg.com/profile_images/766352220757471233/FgbsKndU_normal.jpg', 'profile_image_url_https': 'https://pbs.twimg.com/profile_images/766352220757471233/FgbsKndU_normal.jpg', 'profile_banner_url': 'https://pbs.twimg.com/profile_banners/834076112/1351010853', 'profile_link_color': '09187A', 'profile_sidebar_border_color': 'FFFFFF', 'profile_sidebar_fill_color': 'DDEEF6', 'profile_text_color': '333333', 'profile_use_background_image': True, 'has_extended_profile': False, 'default_profile': False, 'default_profile_image': False, 'following': False, 'follow_request_sent': False, 'notifications': False, 'translator_type': 'none'}, id=834076112, id_str='834076112', name='ADRS', screen_name='ADRSglobal', location='Folsom, CA - South Africa', description='ADRS provides #innovative, flexible & customizable #economic modeling tools, #policy research, capacity building, & advisory services.', url='http://t.co/cvzfnxb3Ab', entities={'url': {'urls': [{'url': 'http://t.co/cvzfnxb3Ab', 'expanded_url': 'http://adrs-global.com', 'display_url': 'adrs-global.com', 'indices': [0, 22]}]}, 'description': {'urls': []}}, protected=False, followers_count=241, friends_count=498, listed_count=3, created_at=datetime.datetime(2012, 9, 19, 20, 27, 50), favourites_count=132, utc_offset=None, time_zone=None, geo_enabled=True, verified=False, statuses_count=1217, lang=None, contributors_enabled=False, is_translator=False, is_translation_enabled=False, profile_background_color='FCFCFC', profile_background_image_url='http://abs.twimg.com/images/themes/theme1/bg.png', profile_background_image_url_https='https://abs.twimg.com/images/themes/theme1/bg.png', profile_background_tile=False, profile_image_url='http://pbs.twimg.com/profile_images/766352220757471233/FgbsKndU_normal.jpg', profile_image_url_https='https://pbs.twimg.com/profile_images/766352220757471233/FgbsKndU_normal.jpg', profile_banner_url='https://pbs.twimg.com/profile_banners/834076112/1351010853', profile_link_color='09187A', profile_sidebar_border_color='FFFFFF', profile_sidebar_fill_color='DDEEF6', profile_text_color='333333', profile_use_background_image=True, has_extended_profile=False, default_profile=False, default_profile_image=False, following=False, follow_request_sent=False, notifications=False, translator_type='none'), geo=None, coordinates=None, place=None, contributors=None, is_quote_status=False, retweet_count=0, favorite_count=1, favorited=False, retweeted=False, possibly_sensitive=False, lang='en')"
      ]
     },
     "execution_count": 138,
     "metadata": {},
     "output_type": "execute_result"
    }
   ],
   "source": [
    "# Just checking how much data is in a single tweet\n",
    "tweets[0]"
   ]
  },
  {
   "cell_type": "code",
   "execution_count": 139,
   "metadata": {},
   "outputs": [
    {
     "data": {
      "text/plain": [
       "'TreasuryRSA'"
      ]
     },
     "execution_count": 139,
     "metadata": {},
     "output_type": "execute_result"
    }
   ],
   "source": [
    "# Mensioned user in the tweet\n",
    "tweets[0].entities['user_mentions'][0]['screen_name']"
   ]
  },
  {
   "cell_type": "code",
   "execution_count": 85,
   "metadata": {},
   "outputs": [],
   "source": [
    "df = pd.DataFrame()"
   ]
  },
  {
   "cell_type": "code",
   "execution_count": 86,
   "metadata": {},
   "outputs": [],
   "source": [
    "def clean_tweet(tweet):\n",
    "        return ' '.join(re.sub(\"(@[A-Za-z0-9]+)|([^0-9A-Za-z \\t])|(\\w+:\\/\\/\\S+)\",\" \", tweet).split())"
   ]
  },
  {
   "cell_type": "code",
   "execution_count": 112,
   "metadata": {},
   "outputs": [],
   "source": [
    "df['date'] = [twit.created_at for twit in tweets]\n",
    "df['id'] = [twit.user.name for twit in tweets]\n",
    "df['text'] = [clean_tweet(twit.full_text) for twit in tweets]\n",
    "df['target'] = [twit.entities['user_mentions'] if twit.entities['user_mentions'] else None for twit in tweets]"
   ]
  },
  {
   "cell_type": "code",
   "execution_count": 128,
   "metadata": {},
   "outputs": [
    {
     "data": {
      "text/html": [
       "<div>\n",
       "<style scoped>\n",
       "    .dataframe tbody tr th:only-of-type {\n",
       "        vertical-align: middle;\n",
       "    }\n",
       "\n",
       "    .dataframe tbody tr th {\n",
       "        vertical-align: top;\n",
       "    }\n",
       "\n",
       "    .dataframe thead th {\n",
       "        text-align: right;\n",
       "    }\n",
       "</style>\n",
       "<table border=\"1\" class=\"dataframe\">\n",
       "  <thead>\n",
       "    <tr style=\"text-align: right;\">\n",
       "      <th></th>\n",
       "      <th>date</th>\n",
       "      <th>id</th>\n",
       "      <th>text</th>\n",
       "      <th>target</th>\n",
       "    </tr>\n",
       "  </thead>\n",
       "  <tbody>\n",
       "    <tr>\n",
       "      <th>0</th>\n",
       "      <td>2019-11-07 11:04:45</td>\n",
       "      <td>ADRS</td>\n",
       "      <td>Post MTBPS2019 and the release of the second v...</td>\n",
       "      <td>[{'screen_name': 'TreasuryRSA', 'name': 'Natio...</td>\n",
       "    </tr>\n",
       "    <tr>\n",
       "      <th>1</th>\n",
       "      <td>2019-11-07 10:25:08</td>\n",
       "      <td>MBI Matseke Business Investment (PTY)LTD</td>\n",
       "      <td>Recap of mtbps2019</td>\n",
       "      <td>None</td>\n",
       "    </tr>\n",
       "    <tr>\n",
       "      <th>2</th>\n",
       "      <td>2019-11-07 10:09:35</td>\n",
       "      <td>Institute for Economic Justice</td>\n",
       "      <td>Some say austerity will make things worse some...</td>\n",
       "      <td>[{'screen_name': 'budgetjusticesa', 'name': 'B...</td>\n",
       "    </tr>\n",
       "    <tr>\n",
       "      <th>3</th>\n",
       "      <td>2019-11-07 09:13:42</td>\n",
       "      <td>Equal Education</td>\n",
       "      <td>READ State spending cuts higher taxes doing mo...</td>\n",
       "      <td>None</td>\n",
       "    </tr>\n",
       "    <tr>\n",
       "      <th>4</th>\n",
       "      <td>2019-11-07 06:40:01</td>\n",
       "      <td>CapeTalk on 567AM</td>\n",
       "      <td>It would be irresponsible if the Reserve Bank ...</td>\n",
       "      <td>None</td>\n",
       "    </tr>\n",
       "  </tbody>\n",
       "</table>\n",
       "</div>"
      ],
      "text/plain": [
       "                 date                                        id  \\\n",
       "0 2019-11-07 11:04:45                                      ADRS   \n",
       "1 2019-11-07 10:25:08  MBI Matseke Business Investment (PTY)LTD   \n",
       "2 2019-11-07 10:09:35            Institute for Economic Justice   \n",
       "3 2019-11-07 09:13:42                           Equal Education   \n",
       "4 2019-11-07 06:40:01                         CapeTalk on 567AM   \n",
       "\n",
       "                                                text  \\\n",
       "0  Post MTBPS2019 and the release of the second v...   \n",
       "1                                 Recap of mtbps2019   \n",
       "2  Some say austerity will make things worse some...   \n",
       "3  READ State spending cuts higher taxes doing mo...   \n",
       "4  It would be irresponsible if the Reserve Bank ...   \n",
       "\n",
       "                                              target  \n",
       "0  [{'screen_name': 'TreasuryRSA', 'name': 'Natio...  \n",
       "1                                               None  \n",
       "2  [{'screen_name': 'budgetjusticesa', 'name': 'B...  \n",
       "3                                               None  \n",
       "4                                               None  "
      ]
     },
     "execution_count": 128,
     "metadata": {},
     "output_type": "execute_result"
    }
   ],
   "source": [
    "df.head()"
   ]
  },
  {
   "cell_type": "markdown",
   "metadata": {},
   "source": [
    "Need to sort out the target column so that it can only have a list of targets"
   ]
  },
  {
   "cell_type": "code",
   "execution_count": 129,
   "metadata": {},
   "outputs": [],
   "source": [
    "def mentioned_names(target_list):\n",
    "    m = [] # List of names targeted\n",
    "    for i in range(len(target_list)):\n",
    "        m.append(target_list[i]['name'])\n",
    "    return m"
   ]
  },
  {
   "cell_type": "code",
   "execution_count": 131,
   "metadata": {},
   "outputs": [],
   "source": [
    "df['target'] = [mentioned_names(x) if x is not None else None for x in df['target']]"
   ]
  },
  {
   "cell_type": "code",
   "execution_count": 149,
   "metadata": {},
   "outputs": [
    {
     "data": {
      "text/html": [
       "<div>\n",
       "<style scoped>\n",
       "    .dataframe tbody tr th:only-of-type {\n",
       "        vertical-align: middle;\n",
       "    }\n",
       "\n",
       "    .dataframe tbody tr th {\n",
       "        vertical-align: top;\n",
       "    }\n",
       "\n",
       "    .dataframe thead th {\n",
       "        text-align: right;\n",
       "    }\n",
       "</style>\n",
       "<table border=\"1\" class=\"dataframe\">\n",
       "  <thead>\n",
       "    <tr style=\"text-align: right;\">\n",
       "      <th></th>\n",
       "      <th>date</th>\n",
       "      <th>id</th>\n",
       "      <th>text</th>\n",
       "      <th>target</th>\n",
       "    </tr>\n",
       "  </thead>\n",
       "  <tbody>\n",
       "    <tr>\n",
       "      <th>0</th>\n",
       "      <td>2019-11-07 11:04:45</td>\n",
       "      <td>ADRS</td>\n",
       "      <td>Post MTBPS2019 and the release of the second v...</td>\n",
       "      <td>[National Treasury]</td>\n",
       "    </tr>\n",
       "    <tr>\n",
       "      <th>1</th>\n",
       "      <td>2019-11-07 10:25:08</td>\n",
       "      <td>MBI Matseke Business Investment (PTY)LTD</td>\n",
       "      <td>Recap of mtbps2019</td>\n",
       "      <td>None</td>\n",
       "    </tr>\n",
       "    <tr>\n",
       "      <th>2</th>\n",
       "      <td>2019-11-07 10:09:35</td>\n",
       "      <td>Institute for Economic Justice</td>\n",
       "      <td>Some say austerity will make things worse some...</td>\n",
       "      <td>[Budget Justice Coalition SA]</td>\n",
       "    </tr>\n",
       "    <tr>\n",
       "      <th>3</th>\n",
       "      <td>2019-11-07 09:13:42</td>\n",
       "      <td>Equal Education</td>\n",
       "      <td>READ State spending cuts higher taxes doing mo...</td>\n",
       "      <td>None</td>\n",
       "    </tr>\n",
       "    <tr>\n",
       "      <th>4</th>\n",
       "      <td>2019-11-07 06:40:01</td>\n",
       "      <td>CapeTalk on 567AM</td>\n",
       "      <td>It would be irresponsible if the Reserve Bank ...</td>\n",
       "      <td>None</td>\n",
       "    </tr>\n",
       "  </tbody>\n",
       "</table>\n",
       "</div>"
      ],
      "text/plain": [
       "                 date                                        id  \\\n",
       "0 2019-11-07 11:04:45                                      ADRS   \n",
       "1 2019-11-07 10:25:08  MBI Matseke Business Investment (PTY)LTD   \n",
       "2 2019-11-07 10:09:35            Institute for Economic Justice   \n",
       "3 2019-11-07 09:13:42                           Equal Education   \n",
       "4 2019-11-07 06:40:01                         CapeTalk on 567AM   \n",
       "\n",
       "                                                text  \\\n",
       "0  Post MTBPS2019 and the release of the second v...   \n",
       "1                                 Recap of mtbps2019   \n",
       "2  Some say austerity will make things worse some...   \n",
       "3  READ State spending cuts higher taxes doing mo...   \n",
       "4  It would be irresponsible if the Reserve Bank ...   \n",
       "\n",
       "                          target  \n",
       "0            [National Treasury]  \n",
       "1                           None  \n",
       "2  [Budget Justice Coalition SA]  \n",
       "3                           None  \n",
       "4                           None  "
      ]
     },
     "execution_count": 149,
     "metadata": {},
     "output_type": "execute_result"
    }
   ],
   "source": [
    "df.head()"
   ]
  },
  {
   "cell_type": "code",
   "execution_count": 135,
   "metadata": {},
   "outputs": [
    {
     "data": {
      "text/plain": [
       "['Tito Mboweni', 'Busi Mavuso']"
      ]
     },
     "execution_count": 135,
     "metadata": {},
     "output_type": "execute_result"
    }
   ],
   "source": [
    "# The mensioned names on the 100th tweet on the list\n",
    "df['target'].iloc[100]"
   ]
  },
  {
   "cell_type": "code",
   "execution_count": 141,
   "metadata": {},
   "outputs": [
    {
     "data": {
      "text/plain": [
       "'Business Leadership South Africa'"
      ]
     },
     "execution_count": 141,
     "metadata": {},
     "output_type": "execute_result"
    }
   ],
   "source": [
    "# Who the 100th tweet was from\n",
    "df['id'].iloc[100]"
   ]
  },
  {
   "cell_type": "code",
   "execution_count": 142,
   "metadata": {},
   "outputs": [
    {
     "data": {
      "text/plain": [
       "'Sobriety is the main message in the mboweni MTBPS with alarming expectations of the debt GDP ratio reaching 81 says BLSA s MTBPS2019 See'"
      ]
     },
     "execution_count": 142,
     "metadata": {},
     "output_type": "execute_result"
    }
   ],
   "source": [
    "# What the tweet said\n",
    "df['text'].iloc[100]"
   ]
  },
  {
   "cell_type": "code",
   "execution_count": 136,
   "metadata": {},
   "outputs": [
    {
     "data": {
      "text/plain": [
       "'Tito Mboweni'"
      ]
     },
     "execution_count": 136,
     "metadata": {},
     "output_type": "execute_result"
    }
   ],
   "source": [
    "df['target'].iloc[100][0]"
   ]
  },
  {
   "cell_type": "code",
   "execution_count": 137,
   "metadata": {},
   "outputs": [],
   "source": [
    "df.to_pickle('tweets.pkl')"
   ]
  },
  {
   "cell_type": "code",
   "execution_count": 140,
   "metadata": {},
   "outputs": [
    {
     "data": {
      "text/plain": [
       "615"
      ]
     },
     "execution_count": 140,
     "metadata": {},
     "output_type": "execute_result"
    }
   ],
   "source": [
    "df['id'].nunique()"
   ]
  },
  {
   "cell_type": "code",
   "execution_count": 145,
   "metadata": {},
   "outputs": [
    {
     "name": "stdout",
     "output_type": "stream",
     "text": [
      "<class 'pandas.core.frame.DataFrame'>\n",
      "RangeIndex: 2293 entries, 0 to 2292\n",
      "Data columns (total 4 columns):\n",
      "date      2293 non-null datetime64[ns]\n",
      "id        2293 non-null object\n",
      "text      2293 non-null object\n",
      "target    766 non-null object\n",
      "dtypes: datetime64[ns](1), object(3)\n",
      "memory usage: 71.8+ KB\n"
     ]
    }
   ],
   "source": [
    "df.info()"
   ]
  },
  {
   "cell_type": "code",
   "execution_count": null,
   "metadata": {},
   "outputs": [],
   "source": []
  }
 ],
 "metadata": {
  "kernelspec": {
   "display_name": "Python 3",
   "language": "python",
   "name": "python3"
  },
  "language_info": {
   "codemirror_mode": {
    "name": "ipython",
    "version": 3
   },
   "file_extension": ".py",
   "mimetype": "text/x-python",
   "name": "python",
   "nbconvert_exporter": "python",
   "pygments_lexer": "ipython3",
   "version": "3.7.1"
  }
 },
 "nbformat": 4,
 "nbformat_minor": 4
}
