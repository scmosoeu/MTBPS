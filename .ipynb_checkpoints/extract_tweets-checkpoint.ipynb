{
 "cells": [
  {
   "cell_type": "code",
   "execution_count": 1,
   "metadata": {},
   "outputs": [],
   "source": [
    "import tweepy\n",
    "import pandas as pd\n",
    "import numpy as np\n",
    "import re\n",
    "\n",
    "from textblob import TextBlob\n",
    "from vaderSentiment.vaderSentiment import SentimentIntensityAnalyzer\n",
    "\n",
    "from authorization_keys import consumer_key, consumer_secret, token, token_key"
   ]
  },
  {
   "cell_type": "code",
   "execution_count": 2,
   "metadata": {},
   "outputs": [],
   "source": [
    "auth = tweepy.OAuthHandler(consumer_key, consumer_secret)\n",
    "\n",
    "auth.set_access_token(token, token_key)"
   ]
  },
  {
   "cell_type": "code",
   "execution_count": 3,
   "metadata": {},
   "outputs": [],
   "source": [
    "api = tweepy.API(auth)"
   ]
  },
  {
   "cell_type": "code",
   "execution_count": 4,
   "metadata": {},
   "outputs": [],
   "source": [
    "tweets = []\n",
    "for tweet in tweepy.Cursor(api.search, q='MTBPS2019 -filter:retweets', tweet_mode='extended').items(3000):\n",
    "    tweets.append(tweet)"
   ]
  },
  {
   "cell_type": "code",
   "execution_count": 5,
   "metadata": {},
   "outputs": [
    {
     "data": {
      "text/plain": [
       "2293"
      ]
     },
     "execution_count": 5,
     "metadata": {},
     "output_type": "execute_result"
    }
   ],
   "source": [
    "len(tweets)"
   ]
  },
  {
   "cell_type": "markdown",
   "metadata": {},
   "source": [
    "Looks like 2293 is the most number of tweets MTBPS2019 has."
   ]
  },
  {
   "cell_type": "code",
   "execution_count": 19,
   "metadata": {},
   "outputs": [
    {
     "data": {
      "text/plain": [
       "Status(_api=<tweepy.api.API object at 0x000001D454BDCE80>, _json={'created_at': 'Fri Nov 01 12:35:05 +0000 2019', 'id': 1190245877803339780, 'id_str': '1190245877803339780', 'full_text': 'Sobriety is the main message in the @tito_mboweni MTBPS, with alarming expectations of the debt-GDP ratio reaching 81%, says BLSA’s @BusiMavuso2. #MTBPS2019 See https://t.co/V237kTCKyf', 'truncated': False, 'display_text_range': [0, 184], 'entities': {'hashtags': [{'text': 'MTBPS2019', 'indices': [146, 156]}], 'symbols': [], 'user_mentions': [{'screen_name': 'tito_mboweni', 'name': 'Tito Mboweni', 'id': 855262092, 'id_str': '855262092', 'indices': [36, 49]}, {'screen_name': 'BusiMavuso2', 'name': 'Busi Mavuso', 'id': 4928587906, 'id_str': '4928587906', 'indices': [132, 144]}], 'urls': [{'url': 'https://t.co/V237kTCKyf', 'expanded_url': 'http://ow.ly/PTda30pOHVV', 'display_url': 'ow.ly/PTda30pOHVV', 'indices': [161, 184]}]}, 'metadata': {'iso_language_code': 'en', 'result_type': 'recent'}, 'source': '<a href=\"https://www.hootsuite.com\" rel=\"nofollow\">Hootsuite Inc.</a>', 'in_reply_to_status_id': None, 'in_reply_to_status_id_str': None, 'in_reply_to_user_id': None, 'in_reply_to_user_id_str': None, 'in_reply_to_screen_name': None, 'user': {'id': 879584402950455296, 'id_str': '879584402950455296', 'name': 'Business Leadership South Africa', 'screen_name': 'BLSA_Official', 'location': 'Johannesburg, South Africa', 'description': 'Business Leadership South Africa, committed to Inclusive Socio-Economic Growth and Transformation  #BusinessBelieves in South Africa', 'url': 'https://t.co/E5igS8CSCA', 'entities': {'url': {'urls': [{'url': 'https://t.co/E5igS8CSCA', 'expanded_url': 'https://www.blsa.org.za', 'display_url': 'blsa.org.za', 'indices': [0, 23]}]}, 'description': {'urls': []}}, 'protected': False, 'followers_count': 8863, 'friends_count': 674, 'listed_count': 25, 'created_at': 'Tue Jun 27 06:17:18 +0000 2017', 'favourites_count': 329, 'utc_offset': None, 'time_zone': None, 'geo_enabled': False, 'verified': False, 'statuses_count': 2761, 'lang': None, 'contributors_enabled': False, 'is_translator': False, 'is_translation_enabled': False, 'profile_background_color': '000000', 'profile_background_image_url': 'http://abs.twimg.com/images/themes/theme1/bg.png', 'profile_background_image_url_https': 'https://abs.twimg.com/images/themes/theme1/bg.png', 'profile_background_tile': False, 'profile_image_url': 'http://pbs.twimg.com/profile_images/1100365086059831297/uMycOobg_normal.png', 'profile_image_url_https': 'https://pbs.twimg.com/profile_images/1100365086059831297/uMycOobg_normal.png', 'profile_banner_url': 'https://pbs.twimg.com/profile_banners/879584402950455296/1503477552', 'profile_link_color': '1B95E0', 'profile_sidebar_border_color': '000000', 'profile_sidebar_fill_color': '000000', 'profile_text_color': '000000', 'profile_use_background_image': False, 'has_extended_profile': False, 'default_profile': False, 'default_profile_image': False, 'following': False, 'follow_request_sent': False, 'notifications': False, 'translator_type': 'none'}, 'geo': None, 'coordinates': None, 'place': None, 'contributors': None, 'is_quote_status': False, 'retweet_count': 2, 'favorite_count': 5, 'favorited': False, 'retweeted': False, 'possibly_sensitive': False, 'lang': 'en'}, created_at=datetime.datetime(2019, 11, 1, 12, 35, 5), id=1190245877803339780, id_str='1190245877803339780', full_text='Sobriety is the main message in the @tito_mboweni MTBPS, with alarming expectations of the debt-GDP ratio reaching 81%, says BLSA’s @BusiMavuso2. #MTBPS2019 See https://t.co/V237kTCKyf', truncated=False, display_text_range=[0, 184], entities={'hashtags': [{'text': 'MTBPS2019', 'indices': [146, 156]}], 'symbols': [], 'user_mentions': [{'screen_name': 'tito_mboweni', 'name': 'Tito Mboweni', 'id': 855262092, 'id_str': '855262092', 'indices': [36, 49]}, {'screen_name': 'BusiMavuso2', 'name': 'Busi Mavuso', 'id': 4928587906, 'id_str': '4928587906', 'indices': [132, 144]}], 'urls': [{'url': 'https://t.co/V237kTCKyf', 'expanded_url': 'http://ow.ly/PTda30pOHVV', 'display_url': 'ow.ly/PTda30pOHVV', 'indices': [161, 184]}]}, metadata={'iso_language_code': 'en', 'result_type': 'recent'}, source='Hootsuite Inc.', source_url='https://www.hootsuite.com', in_reply_to_status_id=None, in_reply_to_status_id_str=None, in_reply_to_user_id=None, in_reply_to_user_id_str=None, in_reply_to_screen_name=None, author=User(_api=<tweepy.api.API object at 0x000001D454BDCE80>, _json={'id': 879584402950455296, 'id_str': '879584402950455296', 'name': 'Business Leadership South Africa', 'screen_name': 'BLSA_Official', 'location': 'Johannesburg, South Africa', 'description': 'Business Leadership South Africa, committed to Inclusive Socio-Economic Growth and Transformation  #BusinessBelieves in South Africa', 'url': 'https://t.co/E5igS8CSCA', 'entities': {'url': {'urls': [{'url': 'https://t.co/E5igS8CSCA', 'expanded_url': 'https://www.blsa.org.za', 'display_url': 'blsa.org.za', 'indices': [0, 23]}]}, 'description': {'urls': []}}, 'protected': False, 'followers_count': 8863, 'friends_count': 674, 'listed_count': 25, 'created_at': 'Tue Jun 27 06:17:18 +0000 2017', 'favourites_count': 329, 'utc_offset': None, 'time_zone': None, 'geo_enabled': False, 'verified': False, 'statuses_count': 2761, 'lang': None, 'contributors_enabled': False, 'is_translator': False, 'is_translation_enabled': False, 'profile_background_color': '000000', 'profile_background_image_url': 'http://abs.twimg.com/images/themes/theme1/bg.png', 'profile_background_image_url_https': 'https://abs.twimg.com/images/themes/theme1/bg.png', 'profile_background_tile': False, 'profile_image_url': 'http://pbs.twimg.com/profile_images/1100365086059831297/uMycOobg_normal.png', 'profile_image_url_https': 'https://pbs.twimg.com/profile_images/1100365086059831297/uMycOobg_normal.png', 'profile_banner_url': 'https://pbs.twimg.com/profile_banners/879584402950455296/1503477552', 'profile_link_color': '1B95E0', 'profile_sidebar_border_color': '000000', 'profile_sidebar_fill_color': '000000', 'profile_text_color': '000000', 'profile_use_background_image': False, 'has_extended_profile': False, 'default_profile': False, 'default_profile_image': False, 'following': False, 'follow_request_sent': False, 'notifications': False, 'translator_type': 'none'}, id=879584402950455296, id_str='879584402950455296', name='Business Leadership South Africa', screen_name='BLSA_Official', location='Johannesburg, South Africa', description='Business Leadership South Africa, committed to Inclusive Socio-Economic Growth and Transformation  #BusinessBelieves in South Africa', url='https://t.co/E5igS8CSCA', entities={'url': {'urls': [{'url': 'https://t.co/E5igS8CSCA', 'expanded_url': 'https://www.blsa.org.za', 'display_url': 'blsa.org.za', 'indices': [0, 23]}]}, 'description': {'urls': []}}, protected=False, followers_count=8863, friends_count=674, listed_count=25, created_at=datetime.datetime(2017, 6, 27, 6, 17, 18), favourites_count=329, utc_offset=None, time_zone=None, geo_enabled=False, verified=False, statuses_count=2761, lang=None, contributors_enabled=False, is_translator=False, is_translation_enabled=False, profile_background_color='000000', profile_background_image_url='http://abs.twimg.com/images/themes/theme1/bg.png', profile_background_image_url_https='https://abs.twimg.com/images/themes/theme1/bg.png', profile_background_tile=False, profile_image_url='http://pbs.twimg.com/profile_images/1100365086059831297/uMycOobg_normal.png', profile_image_url_https='https://pbs.twimg.com/profile_images/1100365086059831297/uMycOobg_normal.png', profile_banner_url='https://pbs.twimg.com/profile_banners/879584402950455296/1503477552', profile_link_color='1B95E0', profile_sidebar_border_color='000000', profile_sidebar_fill_color='000000', profile_text_color='000000', profile_use_background_image=False, has_extended_profile=False, default_profile=False, default_profile_image=False, following=False, follow_request_sent=False, notifications=False, translator_type='none'), user=User(_api=<tweepy.api.API object at 0x000001D454BDCE80>, _json={'id': 879584402950455296, 'id_str': '879584402950455296', 'name': 'Business Leadership South Africa', 'screen_name': 'BLSA_Official', 'location': 'Johannesburg, South Africa', 'description': 'Business Leadership South Africa, committed to Inclusive Socio-Economic Growth and Transformation  #BusinessBelieves in South Africa', 'url': 'https://t.co/E5igS8CSCA', 'entities': {'url': {'urls': [{'url': 'https://t.co/E5igS8CSCA', 'expanded_url': 'https://www.blsa.org.za', 'display_url': 'blsa.org.za', 'indices': [0, 23]}]}, 'description': {'urls': []}}, 'protected': False, 'followers_count': 8863, 'friends_count': 674, 'listed_count': 25, 'created_at': 'Tue Jun 27 06:17:18 +0000 2017', 'favourites_count': 329, 'utc_offset': None, 'time_zone': None, 'geo_enabled': False, 'verified': False, 'statuses_count': 2761, 'lang': None, 'contributors_enabled': False, 'is_translator': False, 'is_translation_enabled': False, 'profile_background_color': '000000', 'profile_background_image_url': 'http://abs.twimg.com/images/themes/theme1/bg.png', 'profile_background_image_url_https': 'https://abs.twimg.com/images/themes/theme1/bg.png', 'profile_background_tile': False, 'profile_image_url': 'http://pbs.twimg.com/profile_images/1100365086059831297/uMycOobg_normal.png', 'profile_image_url_https': 'https://pbs.twimg.com/profile_images/1100365086059831297/uMycOobg_normal.png', 'profile_banner_url': 'https://pbs.twimg.com/profile_banners/879584402950455296/1503477552', 'profile_link_color': '1B95E0', 'profile_sidebar_border_color': '000000', 'profile_sidebar_fill_color': '000000', 'profile_text_color': '000000', 'profile_use_background_image': False, 'has_extended_profile': False, 'default_profile': False, 'default_profile_image': False, 'following': False, 'follow_request_sent': False, 'notifications': False, 'translator_type': 'none'}, id=879584402950455296, id_str='879584402950455296', name='Business Leadership South Africa', screen_name='BLSA_Official', location='Johannesburg, South Africa', description='Business Leadership South Africa, committed to Inclusive Socio-Economic Growth and Transformation  #BusinessBelieves in South Africa', url='https://t.co/E5igS8CSCA', entities={'url': {'urls': [{'url': 'https://t.co/E5igS8CSCA', 'expanded_url': 'https://www.blsa.org.za', 'display_url': 'blsa.org.za', 'indices': [0, 23]}]}, 'description': {'urls': []}}, protected=False, followers_count=8863, friends_count=674, listed_count=25, created_at=datetime.datetime(2017, 6, 27, 6, 17, 18), favourites_count=329, utc_offset=None, time_zone=None, geo_enabled=False, verified=False, statuses_count=2761, lang=None, contributors_enabled=False, is_translator=False, is_translation_enabled=False, profile_background_color='000000', profile_background_image_url='http://abs.twimg.com/images/themes/theme1/bg.png', profile_background_image_url_https='https://abs.twimg.com/images/themes/theme1/bg.png', profile_background_tile=False, profile_image_url='http://pbs.twimg.com/profile_images/1100365086059831297/uMycOobg_normal.png', profile_image_url_https='https://pbs.twimg.com/profile_images/1100365086059831297/uMycOobg_normal.png', profile_banner_url='https://pbs.twimg.com/profile_banners/879584402950455296/1503477552', profile_link_color='1B95E0', profile_sidebar_border_color='000000', profile_sidebar_fill_color='000000', profile_text_color='000000', profile_use_background_image=False, has_extended_profile=False, default_profile=False, default_profile_image=False, following=False, follow_request_sent=False, notifications=False, translator_type='none'), geo=None, coordinates=None, place=None, contributors=None, is_quote_status=False, retweet_count=2, favorite_count=5, favorited=False, retweeted=False, possibly_sensitive=False, lang='en')"
      ]
     },
     "execution_count": 19,
     "metadata": {},
     "output_type": "execute_result"
    }
   ],
   "source": [
    "# Just checking how much data is in a tweet\n",
    "tweets[100]"
   ]
  },
  {
   "cell_type": "code",
   "execution_count": 41,
   "metadata": {},
   "outputs": [
    {
     "data": {
      "text/plain": [
       "'tito_mboweni'"
      ]
     },
     "execution_count": 41,
     "metadata": {},
     "output_type": "execute_result"
    }
   ],
   "source": [
    "tweets[100].entities['user_mentions'][0]['screen_name']"
   ]
  },
  {
   "cell_type": "code",
   "execution_count": 85,
   "metadata": {},
   "outputs": [],
   "source": [
    "df = pd.DataFrame()"
   ]
  },
  {
   "cell_type": "code",
   "execution_count": 86,
   "metadata": {},
   "outputs": [],
   "source": [
    "def clean_tweet(tweet):\n",
    "        return ' '.join(re.sub(\"(@[A-Za-z0-9]+)|([^0-9A-Za-z \\t])|(\\w+:\\/\\/\\S+)\",\" \", tweet).split())"
   ]
  },
  {
   "cell_type": "code",
   "execution_count": 112,
   "metadata": {},
   "outputs": [],
   "source": [
    "df['date'] = [twit.created_at for twit in tweets]\n",
    "df['id'] = [twit.user.name for twit in tweets]\n",
    "df['text'] = [clean_tweet(twit.full_text) for twit in tweets]\n",
    "df['target'] = [twit.entities['user_mentions'] if twit.entities['user_mentions'] else None for twit in tweets]"
   ]
  },
  {
   "cell_type": "code",
   "execution_count": 128,
   "metadata": {},
   "outputs": [
    {
     "data": {
      "text/html": [
       "<div>\n",
       "<style scoped>\n",
       "    .dataframe tbody tr th:only-of-type {\n",
       "        vertical-align: middle;\n",
       "    }\n",
       "\n",
       "    .dataframe tbody tr th {\n",
       "        vertical-align: top;\n",
       "    }\n",
       "\n",
       "    .dataframe thead th {\n",
       "        text-align: right;\n",
       "    }\n",
       "</style>\n",
       "<table border=\"1\" class=\"dataframe\">\n",
       "  <thead>\n",
       "    <tr style=\"text-align: right;\">\n",
       "      <th></th>\n",
       "      <th>date</th>\n",
       "      <th>id</th>\n",
       "      <th>text</th>\n",
       "      <th>target</th>\n",
       "    </tr>\n",
       "  </thead>\n",
       "  <tbody>\n",
       "    <tr>\n",
       "      <th>0</th>\n",
       "      <td>2019-11-07 11:04:45</td>\n",
       "      <td>ADRS</td>\n",
       "      <td>Post MTBPS2019 and the release of the second v...</td>\n",
       "      <td>[{'screen_name': 'TreasuryRSA', 'name': 'Natio...</td>\n",
       "    </tr>\n",
       "    <tr>\n",
       "      <th>1</th>\n",
       "      <td>2019-11-07 10:25:08</td>\n",
       "      <td>MBI Matseke Business Investment (PTY)LTD</td>\n",
       "      <td>Recap of mtbps2019</td>\n",
       "      <td>None</td>\n",
       "    </tr>\n",
       "    <tr>\n",
       "      <th>2</th>\n",
       "      <td>2019-11-07 10:09:35</td>\n",
       "      <td>Institute for Economic Justice</td>\n",
       "      <td>Some say austerity will make things worse some...</td>\n",
       "      <td>[{'screen_name': 'budgetjusticesa', 'name': 'B...</td>\n",
       "    </tr>\n",
       "    <tr>\n",
       "      <th>3</th>\n",
       "      <td>2019-11-07 09:13:42</td>\n",
       "      <td>Equal Education</td>\n",
       "      <td>READ State spending cuts higher taxes doing mo...</td>\n",
       "      <td>None</td>\n",
       "    </tr>\n",
       "    <tr>\n",
       "      <th>4</th>\n",
       "      <td>2019-11-07 06:40:01</td>\n",
       "      <td>CapeTalk on 567AM</td>\n",
       "      <td>It would be irresponsible if the Reserve Bank ...</td>\n",
       "      <td>None</td>\n",
       "    </tr>\n",
       "  </tbody>\n",
       "</table>\n",
       "</div>"
      ],
      "text/plain": [
       "                 date                                        id  \\\n",
       "0 2019-11-07 11:04:45                                      ADRS   \n",
       "1 2019-11-07 10:25:08  MBI Matseke Business Investment (PTY)LTD   \n",
       "2 2019-11-07 10:09:35            Institute for Economic Justice   \n",
       "3 2019-11-07 09:13:42                           Equal Education   \n",
       "4 2019-11-07 06:40:01                         CapeTalk on 567AM   \n",
       "\n",
       "                                                text  \\\n",
       "0  Post MTBPS2019 and the release of the second v...   \n",
       "1                                 Recap of mtbps2019   \n",
       "2  Some say austerity will make things worse some...   \n",
       "3  READ State spending cuts higher taxes doing mo...   \n",
       "4  It would be irresponsible if the Reserve Bank ...   \n",
       "\n",
       "                                              target  \n",
       "0  [{'screen_name': 'TreasuryRSA', 'name': 'Natio...  \n",
       "1                                               None  \n",
       "2  [{'screen_name': 'budgetjusticesa', 'name': 'B...  \n",
       "3                                               None  \n",
       "4                                               None  "
      ]
     },
     "execution_count": 128,
     "metadata": {},
     "output_type": "execute_result"
    }
   ],
   "source": [
    "df.head()"
   ]
  },
  {
   "cell_type": "markdown",
   "metadata": {},
   "source": [
    "Need to sort out the target column so that it can have only a list of targets"
   ]
  },
  {
   "cell_type": "code",
   "execution_count": 129,
   "metadata": {},
   "outputs": [],
   "source": [
    "def mentioned_names(target_list):\n",
    "    m = [] # List of names targeted\n",
    "    for i in range(len(target_list)):\n",
    "        m.append(target_list[i]['name'])\n",
    "    return m"
   ]
  },
  {
   "cell_type": "code",
   "execution_count": 131,
   "metadata": {},
   "outputs": [],
   "source": [
    "df['target'] = [mentioned_names(x) if x is not None else None for x in df['target']]"
   ]
  },
  {
   "cell_type": "code",
   "execution_count": 132,
   "metadata": {},
   "outputs": [
    {
     "data": {
      "text/html": [
       "<div>\n",
       "<style scoped>\n",
       "    .dataframe tbody tr th:only-of-type {\n",
       "        vertical-align: middle;\n",
       "    }\n",
       "\n",
       "    .dataframe tbody tr th {\n",
       "        vertical-align: top;\n",
       "    }\n",
       "\n",
       "    .dataframe thead th {\n",
       "        text-align: right;\n",
       "    }\n",
       "</style>\n",
       "<table border=\"1\" class=\"dataframe\">\n",
       "  <thead>\n",
       "    <tr style=\"text-align: right;\">\n",
       "      <th></th>\n",
       "      <th>date</th>\n",
       "      <th>id</th>\n",
       "      <th>text</th>\n",
       "      <th>target</th>\n",
       "    </tr>\n",
       "  </thead>\n",
       "  <tbody>\n",
       "    <tr>\n",
       "      <th>0</th>\n",
       "      <td>2019-11-07 11:04:45</td>\n",
       "      <td>ADRS</td>\n",
       "      <td>Post MTBPS2019 and the release of the second v...</td>\n",
       "      <td>[National Treasury]</td>\n",
       "    </tr>\n",
       "    <tr>\n",
       "      <th>1</th>\n",
       "      <td>2019-11-07 10:25:08</td>\n",
       "      <td>MBI Matseke Business Investment (PTY)LTD</td>\n",
       "      <td>Recap of mtbps2019</td>\n",
       "      <td>None</td>\n",
       "    </tr>\n",
       "    <tr>\n",
       "      <th>2</th>\n",
       "      <td>2019-11-07 10:09:35</td>\n",
       "      <td>Institute for Economic Justice</td>\n",
       "      <td>Some say austerity will make things worse some...</td>\n",
       "      <td>[Budget Justice Coalition SA]</td>\n",
       "    </tr>\n",
       "    <tr>\n",
       "      <th>3</th>\n",
       "      <td>2019-11-07 09:13:42</td>\n",
       "      <td>Equal Education</td>\n",
       "      <td>READ State spending cuts higher taxes doing mo...</td>\n",
       "      <td>None</td>\n",
       "    </tr>\n",
       "    <tr>\n",
       "      <th>4</th>\n",
       "      <td>2019-11-07 06:40:01</td>\n",
       "      <td>CapeTalk on 567AM</td>\n",
       "      <td>It would be irresponsible if the Reserve Bank ...</td>\n",
       "      <td>None</td>\n",
       "    </tr>\n",
       "  </tbody>\n",
       "</table>\n",
       "</div>"
      ],
      "text/plain": [
       "                 date                                        id  \\\n",
       "0 2019-11-07 11:04:45                                      ADRS   \n",
       "1 2019-11-07 10:25:08  MBI Matseke Business Investment (PTY)LTD   \n",
       "2 2019-11-07 10:09:35            Institute for Economic Justice   \n",
       "3 2019-11-07 09:13:42                           Equal Education   \n",
       "4 2019-11-07 06:40:01                         CapeTalk on 567AM   \n",
       "\n",
       "                                                text  \\\n",
       "0  Post MTBPS2019 and the release of the second v...   \n",
       "1                                 Recap of mtbps2019   \n",
       "2  Some say austerity will make things worse some...   \n",
       "3  READ State spending cuts higher taxes doing mo...   \n",
       "4  It would be irresponsible if the Reserve Bank ...   \n",
       "\n",
       "                          target  \n",
       "0            [National Treasury]  \n",
       "1                           None  \n",
       "2  [Budget Justice Coalition SA]  \n",
       "3                           None  \n",
       "4                           None  "
      ]
     },
     "execution_count": 132,
     "metadata": {},
     "output_type": "execute_result"
    }
   ],
   "source": [
    "df.head()"
   ]
  },
  {
   "cell_type": "code",
   "execution_count": 119,
   "metadata": {},
   "outputs": [
    {
     "data": {
      "text/plain": [
       "[{'screen_name': 'tito_mboweni',\n",
       "  'name': 'Tito Mboweni',\n",
       "  'id': 855262092,\n",
       "  'id_str': '855262092',\n",
       "  'indices': [36, 49]},\n",
       " {'screen_name': 'BusiMavuso2',\n",
       "  'name': 'Busi Mavuso',\n",
       "  'id': 4928587906,\n",
       "  'id_str': '4928587906',\n",
       "  'indices': [132, 144]}]"
      ]
     },
     "execution_count": 119,
     "metadata": {},
     "output_type": "execute_result"
    }
   ],
   "source": [
    "df['target'].iloc[100]"
   ]
  },
  {
   "cell_type": "code",
   "execution_count": 122,
   "metadata": {},
   "outputs": [
    {
     "data": {
      "text/plain": [
       "'Tito Mboweni'"
      ]
     },
     "execution_count": 122,
     "metadata": {},
     "output_type": "execute_result"
    }
   ],
   "source": [
    "df['target'].iloc[100][0]['name']"
   ]
  },
  {
   "cell_type": "code",
   "execution_count": null,
   "metadata": {},
   "outputs": [],
   "source": [
    "TextBlob(df['text'][0]).sentiment.polarity"
   ]
  },
  {
   "cell_type": "code",
   "execution_count": null,
   "metadata": {},
   "outputs": [],
   "source": [
    "def polarity_value(tweet):\n",
    "    analysis = TextBlob(tweet)\n",
    "    if analysis.sentiment.polarity > 0:\n",
    "        return 1\n",
    "    elif analysis.sentiment.polarity == 0:\n",
    "        return 0\n",
    "    else:\n",
    "        return -1"
   ]
  },
  {
   "cell_type": "code",
   "execution_count": null,
   "metadata": {},
   "outputs": [],
   "source": [
    "df['sentiment'] = df['text'].apply(lambda x: polarity_value(x))"
   ]
  },
  {
   "cell_type": "code",
   "execution_count": null,
   "metadata": {},
   "outputs": [],
   "source": [
    "df.tail()"
   ]
  },
  {
   "cell_type": "code",
   "execution_count": null,
   "metadata": {},
   "outputs": [],
   "source": [
    "df.to_csv('MTBPS.csv', index=False)"
   ]
  },
  {
   "cell_type": "code",
   "execution_count": null,
   "metadata": {},
   "outputs": [],
   "source": []
  }
 ],
 "metadata": {
  "kernelspec": {
   "display_name": "Python 3",
   "language": "python",
   "name": "python3"
  },
  "language_info": {
   "codemirror_mode": {
    "name": "ipython",
    "version": 3
   },
   "file_extension": ".py",
   "mimetype": "text/x-python",
   "name": "python",
   "nbconvert_exporter": "python",
   "pygments_lexer": "ipython3",
   "version": "3.7.1"
  }
 },
 "nbformat": 4,
 "nbformat_minor": 4
}
