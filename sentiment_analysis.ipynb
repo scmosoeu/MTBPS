{
 "cells": [
  {
   "cell_type": "code",
   "execution_count": 117,
   "metadata": {},
   "outputs": [],
   "source": [
    "import pandas as pd\n",
    "import seaborn as sns\n",
    "from vaderSentiment.vaderSentiment import SentimentIntensityAnalyzer\n",
    "\n",
    "import ipywidgets as widgets\n",
    "import matplotlib.pyplot as plt\n",
    "from pylab import rcParams\n",
    "%matplotlib inline\n",
    "\n",
    "import warnings\n",
    "warnings.filterwarnings('ignore')"
   ]
  },
  {
   "cell_type": "code",
   "execution_count": 104,
   "metadata": {},
   "outputs": [],
   "source": [
    "rcParams['figure.figsize'] = 10, 5"
   ]
  },
  {
   "cell_type": "code",
   "execution_count": 43,
   "metadata": {},
   "outputs": [],
   "source": [
    "df = pd.read_pickle('tweets.pkl')"
   ]
  },
  {
   "cell_type": "code",
   "execution_count": 44,
   "metadata": {},
   "outputs": [
    {
     "data": {
      "text/html": [
       "<div>\n",
       "<style scoped>\n",
       "    .dataframe tbody tr th:only-of-type {\n",
       "        vertical-align: middle;\n",
       "    }\n",
       "\n",
       "    .dataframe tbody tr th {\n",
       "        vertical-align: top;\n",
       "    }\n",
       "\n",
       "    .dataframe thead th {\n",
       "        text-align: right;\n",
       "    }\n",
       "</style>\n",
       "<table border=\"1\" class=\"dataframe\">\n",
       "  <thead>\n",
       "    <tr style=\"text-align: right;\">\n",
       "      <th></th>\n",
       "      <th>date</th>\n",
       "      <th>id</th>\n",
       "      <th>text</th>\n",
       "      <th>target</th>\n",
       "    </tr>\n",
       "  </thead>\n",
       "  <tbody>\n",
       "    <tr>\n",
       "      <th>0</th>\n",
       "      <td>2019-11-07 11:04:45</td>\n",
       "      <td>ADRS</td>\n",
       "      <td>Post MTBPS2019 and the release of the second v...</td>\n",
       "      <td>[National Treasury]</td>\n",
       "    </tr>\n",
       "    <tr>\n",
       "      <th>1</th>\n",
       "      <td>2019-11-07 10:25:08</td>\n",
       "      <td>MBI Matseke Business Investment (PTY)LTD</td>\n",
       "      <td>Recap of mtbps2019</td>\n",
       "      <td>None</td>\n",
       "    </tr>\n",
       "    <tr>\n",
       "      <th>2</th>\n",
       "      <td>2019-11-07 10:09:35</td>\n",
       "      <td>Institute for Economic Justice</td>\n",
       "      <td>Some say austerity will make things worse some...</td>\n",
       "      <td>[Budget Justice Coalition SA]</td>\n",
       "    </tr>\n",
       "    <tr>\n",
       "      <th>3</th>\n",
       "      <td>2019-11-07 09:13:42</td>\n",
       "      <td>Equal Education</td>\n",
       "      <td>READ State spending cuts higher taxes doing mo...</td>\n",
       "      <td>None</td>\n",
       "    </tr>\n",
       "    <tr>\n",
       "      <th>4</th>\n",
       "      <td>2019-11-07 06:40:01</td>\n",
       "      <td>CapeTalk on 567AM</td>\n",
       "      <td>It would be irresponsible if the Reserve Bank ...</td>\n",
       "      <td>None</td>\n",
       "    </tr>\n",
       "  </tbody>\n",
       "</table>\n",
       "</div>"
      ],
      "text/plain": [
       "                 date                                        id  \\\n",
       "0 2019-11-07 11:04:45                                      ADRS   \n",
       "1 2019-11-07 10:25:08  MBI Matseke Business Investment (PTY)LTD   \n",
       "2 2019-11-07 10:09:35            Institute for Economic Justice   \n",
       "3 2019-11-07 09:13:42                           Equal Education   \n",
       "4 2019-11-07 06:40:01                         CapeTalk on 567AM   \n",
       "\n",
       "                                                text  \\\n",
       "0  Post MTBPS2019 and the release of the second v...   \n",
       "1                                 Recap of mtbps2019   \n",
       "2  Some say austerity will make things worse some...   \n",
       "3  READ State spending cuts higher taxes doing mo...   \n",
       "4  It would be irresponsible if the Reserve Bank ...   \n",
       "\n",
       "                          target  \n",
       "0            [National Treasury]  \n",
       "1                           None  \n",
       "2  [Budget Justice Coalition SA]  \n",
       "3                           None  \n",
       "4                           None  "
      ]
     },
     "execution_count": 44,
     "metadata": {},
     "output_type": "execute_result"
    }
   ],
   "source": [
    "df.head()"
   ]
  },
  {
   "cell_type": "code",
   "execution_count": 45,
   "metadata": {},
   "outputs": [
    {
     "name": "stdout",
     "output_type": "stream",
     "text": [
      "<class 'pandas.core.frame.DataFrame'>\n",
      "RangeIndex: 2293 entries, 0 to 2292\n",
      "Data columns (total 4 columns):\n",
      "date      2293 non-null datetime64[ns]\n",
      "id        2293 non-null object\n",
      "text      2293 non-null object\n",
      "target    766 non-null object\n",
      "dtypes: datetime64[ns](1), object(3)\n",
      "memory usage: 71.8+ KB\n"
     ]
    }
   ],
   "source": [
    "df.info()"
   ]
  },
  {
   "cell_type": "code",
   "execution_count": 46,
   "metadata": {},
   "outputs": [],
   "source": [
    "analyser = SentimentIntensityAnalyzer()"
   ]
  },
  {
   "cell_type": "code",
   "execution_count": 47,
   "metadata": {},
   "outputs": [
    {
     "name": "stdout",
     "output_type": "stream",
     "text": [
      "READ State spending cuts higher taxes doing more harm than good Parly told MTBPS2019\n",
      "{'neg': 0.297, 'neu': 0.546, 'pos': 0.157, 'compound': -0.4271}\n"
     ]
    }
   ],
   "source": [
    "# Example showcasing VADER sentiment analysis\n",
    "print(df['text'][3])\n",
    "print(analyser.polarity_scores(df['text'][3]))"
   ]
  },
  {
   "cell_type": "code",
   "execution_count": 48,
   "metadata": {},
   "outputs": [],
   "source": [
    "def sentiment_analysis(tweet):\n",
    "    sentiment = analyser.polarity_scores(tweet)['compound']\n",
    "    if sentiment >= 0.05:\n",
    "        return 1, 'positive'\n",
    "    elif (sentiment < 0.05) and (sentiment > -0.05):\n",
    "        return 0, 'neutral'\n",
    "    else:\n",
    "        return -1, 'negative'"
   ]
  },
  {
   "cell_type": "code",
   "execution_count": 49,
   "metadata": {},
   "outputs": [],
   "source": [
    "df['sentiment_score'] = df['text'].apply(lambda x: sentiment_analysis(x)[0])\n",
    "df['sentiment'] = df['text'].apply(lambda x: sentiment_analysis(x)[1])"
   ]
  },
  {
   "cell_type": "code",
   "execution_count": 50,
   "metadata": {},
   "outputs": [
    {
     "data": {
      "text/html": [
       "<div>\n",
       "<style scoped>\n",
       "    .dataframe tbody tr th:only-of-type {\n",
       "        vertical-align: middle;\n",
       "    }\n",
       "\n",
       "    .dataframe tbody tr th {\n",
       "        vertical-align: top;\n",
       "    }\n",
       "\n",
       "    .dataframe thead th {\n",
       "        text-align: right;\n",
       "    }\n",
       "</style>\n",
       "<table border=\"1\" class=\"dataframe\">\n",
       "  <thead>\n",
       "    <tr style=\"text-align: right;\">\n",
       "      <th></th>\n",
       "      <th>date</th>\n",
       "      <th>id</th>\n",
       "      <th>text</th>\n",
       "      <th>target</th>\n",
       "      <th>sentiment_score</th>\n",
       "      <th>sentiment</th>\n",
       "    </tr>\n",
       "  </thead>\n",
       "  <tbody>\n",
       "    <tr>\n",
       "      <th>0</th>\n",
       "      <td>2019-11-07 11:04:45</td>\n",
       "      <td>ADRS</td>\n",
       "      <td>Post MTBPS2019 and the release of the second v...</td>\n",
       "      <td>[National Treasury]</td>\n",
       "      <td>1</td>\n",
       "      <td>positive</td>\n",
       "    </tr>\n",
       "    <tr>\n",
       "      <th>1</th>\n",
       "      <td>2019-11-07 10:25:08</td>\n",
       "      <td>MBI Matseke Business Investment (PTY)LTD</td>\n",
       "      <td>Recap of mtbps2019</td>\n",
       "      <td>None</td>\n",
       "      <td>0</td>\n",
       "      <td>neutral</td>\n",
       "    </tr>\n",
       "    <tr>\n",
       "      <th>2</th>\n",
       "      <td>2019-11-07 10:09:35</td>\n",
       "      <td>Institute for Economic Justice</td>\n",
       "      <td>Some say austerity will make things worse some...</td>\n",
       "      <td>[Budget Justice Coalition SA]</td>\n",
       "      <td>1</td>\n",
       "      <td>positive</td>\n",
       "    </tr>\n",
       "    <tr>\n",
       "      <th>3</th>\n",
       "      <td>2019-11-07 09:13:42</td>\n",
       "      <td>Equal Education</td>\n",
       "      <td>READ State spending cuts higher taxes doing mo...</td>\n",
       "      <td>None</td>\n",
       "      <td>-1</td>\n",
       "      <td>negative</td>\n",
       "    </tr>\n",
       "    <tr>\n",
       "      <th>4</th>\n",
       "      <td>2019-11-07 06:40:01</td>\n",
       "      <td>CapeTalk on 567AM</td>\n",
       "      <td>It would be irresponsible if the Reserve Bank ...</td>\n",
       "      <td>None</td>\n",
       "      <td>1</td>\n",
       "      <td>positive</td>\n",
       "    </tr>\n",
       "  </tbody>\n",
       "</table>\n",
       "</div>"
      ],
      "text/plain": [
       "                 date                                        id  \\\n",
       "0 2019-11-07 11:04:45                                      ADRS   \n",
       "1 2019-11-07 10:25:08  MBI Matseke Business Investment (PTY)LTD   \n",
       "2 2019-11-07 10:09:35            Institute for Economic Justice   \n",
       "3 2019-11-07 09:13:42                           Equal Education   \n",
       "4 2019-11-07 06:40:01                         CapeTalk on 567AM   \n",
       "\n",
       "                                                text  \\\n",
       "0  Post MTBPS2019 and the release of the second v...   \n",
       "1                                 Recap of mtbps2019   \n",
       "2  Some say austerity will make things worse some...   \n",
       "3  READ State spending cuts higher taxes doing mo...   \n",
       "4  It would be irresponsible if the Reserve Bank ...   \n",
       "\n",
       "                          target  sentiment_score sentiment  \n",
       "0            [National Treasury]                1  positive  \n",
       "1                           None                0   neutral  \n",
       "2  [Budget Justice Coalition SA]                1  positive  \n",
       "3                           None               -1  negative  \n",
       "4                           None                1  positive  "
      ]
     },
     "execution_count": 50,
     "metadata": {},
     "output_type": "execute_result"
    }
   ],
   "source": [
    "df.head()"
   ]
  },
  {
   "cell_type": "code",
   "execution_count": 51,
   "metadata": {},
   "outputs": [],
   "source": [
    "# Separate date and time\n",
    "df['Day'] = df['date'].apply(lambda x: str(x).split(' ')[0])"
   ]
  },
  {
   "cell_type": "code",
   "execution_count": 52,
   "metadata": {},
   "outputs": [
    {
     "data": {
      "text/html": [
       "<div>\n",
       "<style scoped>\n",
       "    .dataframe tbody tr th:only-of-type {\n",
       "        vertical-align: middle;\n",
       "    }\n",
       "\n",
       "    .dataframe tbody tr th {\n",
       "        vertical-align: top;\n",
       "    }\n",
       "\n",
       "    .dataframe thead th {\n",
       "        text-align: right;\n",
       "    }\n",
       "</style>\n",
       "<table border=\"1\" class=\"dataframe\">\n",
       "  <thead>\n",
       "    <tr style=\"text-align: right;\">\n",
       "      <th></th>\n",
       "      <th>date</th>\n",
       "      <th>id</th>\n",
       "      <th>text</th>\n",
       "      <th>target</th>\n",
       "      <th>sentiment_score</th>\n",
       "      <th>sentiment</th>\n",
       "      <th>Day</th>\n",
       "    </tr>\n",
       "  </thead>\n",
       "  <tbody>\n",
       "    <tr>\n",
       "      <th>0</th>\n",
       "      <td>2019-11-07 11:04:45</td>\n",
       "      <td>ADRS</td>\n",
       "      <td>Post MTBPS2019 and the release of the second v...</td>\n",
       "      <td>[National Treasury]</td>\n",
       "      <td>1</td>\n",
       "      <td>positive</td>\n",
       "      <td>2019-11-07</td>\n",
       "    </tr>\n",
       "    <tr>\n",
       "      <th>1</th>\n",
       "      <td>2019-11-07 10:25:08</td>\n",
       "      <td>MBI Matseke Business Investment (PTY)LTD</td>\n",
       "      <td>Recap of mtbps2019</td>\n",
       "      <td>None</td>\n",
       "      <td>0</td>\n",
       "      <td>neutral</td>\n",
       "      <td>2019-11-07</td>\n",
       "    </tr>\n",
       "    <tr>\n",
       "      <th>2</th>\n",
       "      <td>2019-11-07 10:09:35</td>\n",
       "      <td>Institute for Economic Justice</td>\n",
       "      <td>Some say austerity will make things worse some...</td>\n",
       "      <td>[Budget Justice Coalition SA]</td>\n",
       "      <td>1</td>\n",
       "      <td>positive</td>\n",
       "      <td>2019-11-07</td>\n",
       "    </tr>\n",
       "    <tr>\n",
       "      <th>3</th>\n",
       "      <td>2019-11-07 09:13:42</td>\n",
       "      <td>Equal Education</td>\n",
       "      <td>READ State spending cuts higher taxes doing mo...</td>\n",
       "      <td>None</td>\n",
       "      <td>-1</td>\n",
       "      <td>negative</td>\n",
       "      <td>2019-11-07</td>\n",
       "    </tr>\n",
       "    <tr>\n",
       "      <th>4</th>\n",
       "      <td>2019-11-07 06:40:01</td>\n",
       "      <td>CapeTalk on 567AM</td>\n",
       "      <td>It would be irresponsible if the Reserve Bank ...</td>\n",
       "      <td>None</td>\n",
       "      <td>1</td>\n",
       "      <td>positive</td>\n",
       "      <td>2019-11-07</td>\n",
       "    </tr>\n",
       "  </tbody>\n",
       "</table>\n",
       "</div>"
      ],
      "text/plain": [
       "                 date                                        id  \\\n",
       "0 2019-11-07 11:04:45                                      ADRS   \n",
       "1 2019-11-07 10:25:08  MBI Matseke Business Investment (PTY)LTD   \n",
       "2 2019-11-07 10:09:35            Institute for Economic Justice   \n",
       "3 2019-11-07 09:13:42                           Equal Education   \n",
       "4 2019-11-07 06:40:01                         CapeTalk on 567AM   \n",
       "\n",
       "                                                text  \\\n",
       "0  Post MTBPS2019 and the release of the second v...   \n",
       "1                                 Recap of mtbps2019   \n",
       "2  Some say austerity will make things worse some...   \n",
       "3  READ State spending cuts higher taxes doing mo...   \n",
       "4  It would be irresponsible if the Reserve Bank ...   \n",
       "\n",
       "                          target  sentiment_score sentiment         Day  \n",
       "0            [National Treasury]                1  positive  2019-11-07  \n",
       "1                           None                0   neutral  2019-11-07  \n",
       "2  [Budget Justice Coalition SA]                1  positive  2019-11-07  \n",
       "3                           None               -1  negative  2019-11-07  \n",
       "4                           None                1  positive  2019-11-07  "
      ]
     },
     "execution_count": 52,
     "metadata": {},
     "output_type": "execute_result"
    }
   ],
   "source": [
    "df.head()"
   ]
  },
  {
   "cell_type": "code",
   "execution_count": 53,
   "metadata": {},
   "outputs": [
    {
     "name": "stdout",
     "output_type": "stream",
     "text": [
      "<class 'pandas.core.frame.DataFrame'>\n",
      "RangeIndex: 2293 entries, 0 to 2292\n",
      "Data columns (total 7 columns):\n",
      "date               2293 non-null datetime64[ns]\n",
      "id                 2293 non-null object\n",
      "text               2293 non-null object\n",
      "target             766 non-null object\n",
      "sentiment_score    2293 non-null int64\n",
      "sentiment          2293 non-null object\n",
      "Day                2293 non-null object\n",
      "dtypes: datetime64[ns](1), int64(1), object(5)\n",
      "memory usage: 125.5+ KB\n"
     ]
    }
   ],
   "source": [
    "df.info()"
   ]
  },
  {
   "cell_type": "markdown",
   "metadata": {},
   "source": [
    "To check the number of sentiments in each category"
   ]
  },
  {
   "cell_type": "code",
   "execution_count": 54,
   "metadata": {},
   "outputs": [
    {
     "data": {
      "image/png": "[encoded data removed]",
      "text/plain": [
       "<Figure size 720x360 with 1 Axes>"
      ]
     },
     "metadata": {
      "needs_background": "light"
     },
     "output_type": "display_data"
    }
   ],
   "source": [
    "df['sentiment'].value_counts().plot(kind='bar')\n",
    "plt.title('Sentiment overview')\n",
    "plt.ylabel('# of tweets')\n",
    "plt.xlabel('Sentiment');"
   ]
  },
  {
   "cell_type": "code",
   "execution_count": 55,
   "metadata": {},
   "outputs": [],
   "source": [
    "sns.set(style=\"whitegrid\")"
   ]
  },
  {
   "cell_type": "code",
   "execution_count": 56,
   "metadata": {},
   "outputs": [
    {
     "data": {
      "image/png": "[encoded data removed]",
      "text/plain": [
       "<Figure size 720x360 with 1 Axes>"
      ]
     },
     "metadata": {},
     "output_type": "display_data"
    }
   ],
   "source": [
    "g = sns.countplot(x='Day', hue='sentiment', data=df)\n",
    "plt.setp(g.get_xticklabels(), rotation=30, ha='right', rotation_mode='anchor')\n",
    "plt.gca().invert_xaxis()\n",
    "plt.title('Number of tweets');"
   ]
  },
  {
   "cell_type": "markdown",
   "metadata": {},
   "source": [
    "### On the 30th of October 2019 was the day of the speech, which is why there was an increase in the number of tweets"
   ]
  },
  {
   "cell_type": "code",
   "execution_count": 66,
   "metadata": {},
   "outputs": [],
   "source": [
    "# Focusing on that day\n",
    "newdf = df[df['Day'] == '2019-10-30']"
   ]
  },
  {
   "cell_type": "code",
   "execution_count": 67,
   "metadata": {},
   "outputs": [
    {
     "data": {
      "text/plain": [
       "positive    745\n",
       "neutral     652\n",
       "negative    527\n",
       "Name: sentiment, dtype: int64"
      ]
     },
     "execution_count": 67,
     "metadata": {},
     "output_type": "execute_result"
    }
   ],
   "source": [
    "newdf['sentiment'].value_counts()"
   ]
  },
  {
   "cell_type": "code",
   "execution_count": 69,
   "metadata": {},
   "outputs": [],
   "source": [
    "# extract only the hour mark for the day\n",
    "newdf['hour'] = df['date'].apply(lambda x: x.hour)"
   ]
  },
  {
   "cell_type": "code",
   "execution_count": 70,
   "metadata": {},
   "outputs": [
    {
     "data": {
      "text/html": [
       "<div>\n",
       "<style scoped>\n",
       "    .dataframe tbody tr th:only-of-type {\n",
       "        vertical-align: middle;\n",
       "    }\n",
       "\n",
       "    .dataframe tbody tr th {\n",
       "        vertical-align: top;\n",
       "    }\n",
       "\n",
       "    .dataframe thead th {\n",
       "        text-align: right;\n",
       "    }\n",
       "</style>\n",
       "<table border=\"1\" class=\"dataframe\">\n",
       "  <thead>\n",
       "    <tr style=\"text-align: right;\">\n",
       "      <th></th>\n",
       "      <th>date</th>\n",
       "      <th>id</th>\n",
       "      <th>text</th>\n",
       "      <th>target</th>\n",
       "      <th>sentiment_score</th>\n",
       "      <th>sentiment</th>\n",
       "      <th>Day</th>\n",
       "      <th>hour</th>\n",
       "    </tr>\n",
       "  </thead>\n",
       "  <tbody>\n",
       "    <tr>\n",
       "      <th>336</th>\n",
       "      <td>2019-10-30 22:40:56</td>\n",
       "      <td>voltron001</td>\n",
       "      <td>Older Lucie Villa SouthAfrica eskom MTBPS2019 ...</td>\n",
       "      <td>[Moody's Investors Service, Moody's Analytics,...</td>\n",
       "      <td>0</td>\n",
       "      <td>neutral</td>\n",
       "      <td>2019-10-30</td>\n",
       "      <td>22</td>\n",
       "    </tr>\n",
       "    <tr>\n",
       "      <th>337</th>\n",
       "      <td>2019-10-30 21:21:33</td>\n",
       "      <td>Superior Invest</td>\n",
       "      <td>SA MTBPS2019 Finance Minister Tito Mboweni s f...</td>\n",
       "      <td>None</td>\n",
       "      <td>0</td>\n",
       "      <td>neutral</td>\n",
       "      <td>2019-10-30</td>\n",
       "      <td>21</td>\n",
       "    </tr>\n",
       "    <tr>\n",
       "      <th>338</th>\n",
       "      <td>2019-10-30 21:10:41</td>\n",
       "      <td>Sibongakonke Kheswa</td>\n",
       "      <td>Economy is a dire state Tough circumstances wi...</td>\n",
       "      <td>None</td>\n",
       "      <td>-1</td>\n",
       "      <td>negative</td>\n",
       "      <td>2019-10-30</td>\n",
       "      <td>21</td>\n",
       "    </tr>\n",
       "    <tr>\n",
       "      <th>339</th>\n",
       "      <td>2019-10-30 21:05:58</td>\n",
       "      <td>TTM</td>\n",
       "      <td>Im back wana help me to grow up ttm back free ...</td>\n",
       "      <td>None</td>\n",
       "      <td>1</td>\n",
       "      <td>positive</td>\n",
       "      <td>2019-10-30</td>\n",
       "      <td>21</td>\n",
       "    </tr>\n",
       "    <tr>\n",
       "      <th>340</th>\n",
       "      <td>2019-10-30 20:54:25</td>\n",
       "      <td>Sentient_Spirit</td>\n",
       "      <td>Why should taxpayers pay for the ANC govt fuck...</td>\n",
       "      <td>None</td>\n",
       "      <td>-1</td>\n",
       "      <td>negative</td>\n",
       "      <td>2019-10-30</td>\n",
       "      <td>20</td>\n",
       "    </tr>\n",
       "  </tbody>\n",
       "</table>\n",
       "</div>"
      ],
      "text/plain": [
       "                   date                   id  \\\n",
       "336 2019-10-30 22:40:56           voltron001   \n",
       "337 2019-10-30 21:21:33      Superior Invest   \n",
       "338 2019-10-30 21:10:41  Sibongakonke Kheswa   \n",
       "339 2019-10-30 21:05:58                  TTM   \n",
       "340 2019-10-30 20:54:25      Sentient_Spirit   \n",
       "\n",
       "                                                  text  \\\n",
       "336  Older Lucie Villa SouthAfrica eskom MTBPS2019 ...   \n",
       "337  SA MTBPS2019 Finance Minister Tito Mboweni s f...   \n",
       "338  Economy is a dire state Tough circumstances wi...   \n",
       "339  Im back wana help me to grow up ttm back free ...   \n",
       "340  Why should taxpayers pay for the ANC govt fuck...   \n",
       "\n",
       "                                                target  sentiment_score  \\\n",
       "336  [Moody's Investors Service, Moody's Analytics,...                0   \n",
       "337                                               None                0   \n",
       "338                                               None               -1   \n",
       "339                                               None                1   \n",
       "340                                               None               -1   \n",
       "\n",
       "    sentiment         Day  hour  \n",
       "336   neutral  2019-10-30    22  \n",
       "337   neutral  2019-10-30    21  \n",
       "338  negative  2019-10-30    21  \n",
       "339  positive  2019-10-30    21  \n",
       "340  negative  2019-10-30    20  "
      ]
     },
     "execution_count": 70,
     "metadata": {},
     "output_type": "execute_result"
    }
   ],
   "source": [
    "newdf.head()"
   ]
  },
  {
   "cell_type": "code",
   "execution_count": 71,
   "metadata": {},
   "outputs": [],
   "source": [
    "# No need for the date and Day columns \n",
    "newdf.drop(['date','Day'], axis=1, inplace=True)"
   ]
  },
  {
   "cell_type": "code",
   "execution_count": 72,
   "metadata": {},
   "outputs": [
    {
     "data": {
      "text/html": [
       "<div>\n",
       "<style scoped>\n",
       "    .dataframe tbody tr th:only-of-type {\n",
       "        vertical-align: middle;\n",
       "    }\n",
       "\n",
       "    .dataframe tbody tr th {\n",
       "        vertical-align: top;\n",
       "    }\n",
       "\n",
       "    .dataframe thead th {\n",
       "        text-align: right;\n",
       "    }\n",
       "</style>\n",
       "<table border=\"1\" class=\"dataframe\">\n",
       "  <thead>\n",
       "    <tr style=\"text-align: right;\">\n",
       "      <th></th>\n",
       "      <th>id</th>\n",
       "      <th>text</th>\n",
       "      <th>target</th>\n",
       "      <th>sentiment_score</th>\n",
       "      <th>sentiment</th>\n",
       "      <th>hour</th>\n",
       "    </tr>\n",
       "  </thead>\n",
       "  <tbody>\n",
       "    <tr>\n",
       "      <th>336</th>\n",
       "      <td>voltron001</td>\n",
       "      <td>Older Lucie Villa SouthAfrica eskom MTBPS2019 ...</td>\n",
       "      <td>[Moody's Investors Service, Moody's Analytics,...</td>\n",
       "      <td>0</td>\n",
       "      <td>neutral</td>\n",
       "      <td>22</td>\n",
       "    </tr>\n",
       "    <tr>\n",
       "      <th>337</th>\n",
       "      <td>Superior Invest</td>\n",
       "      <td>SA MTBPS2019 Finance Minister Tito Mboweni s f...</td>\n",
       "      <td>None</td>\n",
       "      <td>0</td>\n",
       "      <td>neutral</td>\n",
       "      <td>21</td>\n",
       "    </tr>\n",
       "    <tr>\n",
       "      <th>338</th>\n",
       "      <td>Sibongakonke Kheswa</td>\n",
       "      <td>Economy is a dire state Tough circumstances wi...</td>\n",
       "      <td>None</td>\n",
       "      <td>-1</td>\n",
       "      <td>negative</td>\n",
       "      <td>21</td>\n",
       "    </tr>\n",
       "    <tr>\n",
       "      <th>339</th>\n",
       "      <td>TTM</td>\n",
       "      <td>Im back wana help me to grow up ttm back free ...</td>\n",
       "      <td>None</td>\n",
       "      <td>1</td>\n",
       "      <td>positive</td>\n",
       "      <td>21</td>\n",
       "    </tr>\n",
       "    <tr>\n",
       "      <th>340</th>\n",
       "      <td>Sentient_Spirit</td>\n",
       "      <td>Why should taxpayers pay for the ANC govt fuck...</td>\n",
       "      <td>None</td>\n",
       "      <td>-1</td>\n",
       "      <td>negative</td>\n",
       "      <td>20</td>\n",
       "    </tr>\n",
       "  </tbody>\n",
       "</table>\n",
       "</div>"
      ],
      "text/plain": [
       "                      id                                               text  \\\n",
       "336           voltron001  Older Lucie Villa SouthAfrica eskom MTBPS2019 ...   \n",
       "337      Superior Invest  SA MTBPS2019 Finance Minister Tito Mboweni s f...   \n",
       "338  Sibongakonke Kheswa  Economy is a dire state Tough circumstances wi...   \n",
       "339                  TTM  Im back wana help me to grow up ttm back free ...   \n",
       "340      Sentient_Spirit  Why should taxpayers pay for the ANC govt fuck...   \n",
       "\n",
       "                                                target  sentiment_score  \\\n",
       "336  [Moody's Investors Service, Moody's Analytics,...                0   \n",
       "337                                               None                0   \n",
       "338                                               None               -1   \n",
       "339                                               None                1   \n",
       "340                                               None               -1   \n",
       "\n",
       "    sentiment  hour  \n",
       "336   neutral    22  \n",
       "337   neutral    21  \n",
       "338  negative    21  \n",
       "339  positive    21  \n",
       "340  negative    20  "
      ]
     },
     "execution_count": 72,
     "metadata": {},
     "output_type": "execute_result"
    }
   ],
   "source": [
    "newdf.head()"
   ]
  },
  {
   "cell_type": "code",
   "execution_count": 132,
   "metadata": {},
   "outputs": [
    {
     "data": {
      "image/png": "[encoded data removed]",
      "text/plain": [
       "<Figure size 1080x360 with 1 Axes>"
      ]
     },
     "metadata": {
      "needs_background": "light"
     },
     "output_type": "display_data"
    }
   ],
   "source": [
    "plt.figure(figsize=(15, 5))\n",
    "sns.countplot(x='hour', data=newdf)\n",
    "plt.axvspan(14, 17, color='y', alpha=0.5, label='budget speech')\n",
    "plt.title('# of tweets')\n",
    "plt.legend();"
   ]
  },
  {
   "cell_type": "markdown",
   "metadata": {},
   "source": [
    "At midday there's a spike in the number of tweets indicative of the anticipitation of the budget speech"
   ]
  },
  {
   "cell_type": "code",
   "execution_count": null,
   "metadata": {},
   "outputs": [],
   "source": []
  }
 ],
 "metadata": {
  "kernelspec": {
   "display_name": "Python 3",
   "language": "python",
   "name": "python3"
  },
  "language_info": {
   "codemirror_mode": {
    "name": "ipython",
    "version": 3
   },
   "file_extension": ".py",
   "mimetype": "text/x-python",
   "name": "python",
   "nbconvert_exporter": "python",
   "pygments_lexer": "ipython3",
   "version": "3.7.1"
  }
 },
 "nbformat": 4,
 "nbformat_minor": 4
}
